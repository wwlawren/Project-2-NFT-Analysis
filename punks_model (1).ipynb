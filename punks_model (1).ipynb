{
 "cells": [
  {
   "cell_type": "code",
   "execution_count": 1,
   "id": "7f2dcf80-d4ba-4c0a-b979-b8cb9f659d85",
   "metadata": {},
   "outputs": [],
   "source": [
    "# Initial imports\n",
    "import numpy as np\n",
    "import pandas as pd\n",
    "from pathlib import Path\n",
    "%matplotlib inline"
   ]
  },
  {
   "cell_type": "code",
   "execution_count": 2,
   "id": "d368f1d9-18d8-43a1-8810-f938a24b8d0a",
   "metadata": {},
   "outputs": [],
   "source": [
    "# Set the random seed for reproducibility\n",
    "# Note: This is used for model prototyping, but it is good practice to comment this out and run multiple experiments to evaluate your model.\n",
    "from numpy.random import seed\n",
    "\n",
    "seed(1)\n",
    "from tensorflow import random\n",
    "\n",
    "random.set_seed(2)"
   ]
  },
  {
   "cell_type": "code",
   "execution_count": 3,
   "id": "07413075-92b8-4fab-8f48-9ddf5eab3ec4",
   "metadata": {},
   "outputs": [],
   "source": [
    "file_path = Path('~/Downloads/chart.csv')\n",
    "punks_df = pd.read_csv(file_path, index_col= \"Date\", infer_datetime_format=True, parse_dates=True,)\n",
    "punks_df.head()\n",
    "punks_df.dropna(inplace=True)\n"
   ]
  },
  {
   "cell_type": "code",
   "execution_count": 4,
   "id": "ef26e160-6e70-414d-b0ee-e66524544c02",
   "metadata": {},
   "outputs": [
    {
     "data": {
      "text/html": [
       "<div>\n",
       "<style scoped>\n",
       "    .dataframe tbody tr th:only-of-type {\n",
       "        vertical-align: middle;\n",
       "    }\n",
       "\n",
       "    .dataframe tbody tr th {\n",
       "        vertical-align: top;\n",
       "    }\n",
       "\n",
       "    .dataframe thead th {\n",
       "        text-align: right;\n",
       "    }\n",
       "</style>\n",
       "<table border=\"1\" class=\"dataframe\">\n",
       "  <thead>\n",
       "    <tr style=\"text-align: right;\">\n",
       "      <th></th>\n",
       "      <th>Average USD</th>\n",
       "    </tr>\n",
       "    <tr>\n",
       "      <th>Date</th>\n",
       "      <th></th>\n",
       "    </tr>\n",
       "  </thead>\n",
       "  <tbody>\n",
       "    <tr>\n",
       "      <th>2017-06-23</th>\n",
       "      <td>53.70</td>\n",
       "    </tr>\n",
       "    <tr>\n",
       "      <th>2017-06-24</th>\n",
       "      <td>56.53</td>\n",
       "    </tr>\n",
       "    <tr>\n",
       "      <th>2017-06-25</th>\n",
       "      <td>52.43</td>\n",
       "    </tr>\n",
       "    <tr>\n",
       "      <th>2017-06-26</th>\n",
       "      <td>47.81</td>\n",
       "    </tr>\n",
       "    <tr>\n",
       "      <th>2017-06-27</th>\n",
       "      <td>52.96</td>\n",
       "    </tr>\n",
       "    <tr>\n",
       "      <th>...</th>\n",
       "      <td>...</td>\n",
       "    </tr>\n",
       "    <tr>\n",
       "      <th>2021-12-05</th>\n",
       "      <td>88463.56</td>\n",
       "    </tr>\n",
       "    <tr>\n",
       "      <th>2021-12-06</th>\n",
       "      <td>88925.25</td>\n",
       "    </tr>\n",
       "    <tr>\n",
       "      <th>2021-12-07</th>\n",
       "      <td>89066.04</td>\n",
       "    </tr>\n",
       "    <tr>\n",
       "      <th>2021-12-08</th>\n",
       "      <td>89257.26</td>\n",
       "    </tr>\n",
       "    <tr>\n",
       "      <th>2021-12-09</th>\n",
       "      <td>89257.26</td>\n",
       "    </tr>\n",
       "  </tbody>\n",
       "</table>\n",
       "<p>1631 rows × 1 columns</p>\n",
       "</div>"
      ],
      "text/plain": [
       "            Average USD\n",
       "Date                   \n",
       "2017-06-23        53.70\n",
       "2017-06-24        56.53\n",
       "2017-06-25        52.43\n",
       "2017-06-26        47.81\n",
       "2017-06-27        52.96\n",
       "...                 ...\n",
       "2021-12-05     88463.56\n",
       "2021-12-06     88925.25\n",
       "2021-12-07     89066.04\n",
       "2021-12-08     89257.26\n",
       "2021-12-09     89257.26\n",
       "\n",
       "[1631 rows x 1 columns]"
      ]
     },
     "execution_count": 4,
     "metadata": {},
     "output_type": "execute_result"
    }
   ],
   "source": [
    "punks_df"
   ]
  },
  {
   "cell_type": "code",
   "execution_count": 5,
   "id": "de2188c8-29f4-41d3-959a-6be0d040b624",
   "metadata": {},
   "outputs": [],
   "source": [
    "def window_data(df, window, feature_col_number, target_col_number):\n",
    "    \"\"\"\n",
    "    This function accepts the column number for the features (X) and the target (y).\n",
    "    It chunks the data up with a rolling window of Xt - window to predict Xt.\n",
    "    It returns two numpy arrays of X and y.\n",
    "    \"\"\"\n",
    "    X = []\n",
    "    y = []\n",
    "    for i in range(len(df) - window):\n",
    "        features = df.iloc[i : (i + window), feature_col_number]\n",
    "        target = df.iloc[(i + window), target_col_number]\n",
    "        X.append(features)\n",
    "        y.append(target)\n",
    "    return np.array(X), np.array(y).reshape(-1, 1)"
   ]
  },
  {
   "cell_type": "code",
   "execution_count": 6,
   "id": "94d44900-e96c-461c-84a1-8b179fe5a42a",
   "metadata": {},
   "outputs": [
    {
     "name": "stdout",
     "output_type": "stream",
     "text": [
      "X sample values:\n",
      "[[ 53.7   56.53  52.43  47.81  52.96  56.9   57.05  59.98  73.79  76.76]\n",
      " [ 56.53  52.43  47.81  52.96  56.9   57.05  59.98  73.79  76.76  89.3 ]\n",
      " [ 52.43  47.81  52.96  56.9   57.05  59.98  73.79  76.76  89.3  115.  ]] \n",
      "\n",
      "y sample values:\n",
      "[[ 89.3 ]\n",
      " [115.  ]\n",
      " [114.32]]\n"
     ]
    }
   ],
   "source": [
    "# Define the window size\n",
    "window_size = 10 \n",
    "\n",
    "# Set the index of the feature and target columns\n",
    "feature_column = 0\n",
    "target_column = 0\n",
    "\n",
    "# Create the features (X) and target (y) data using the window_data() function.\n",
    "X, y = window_data(punks_df, window_size, feature_column, target_column)\n",
    "\n",
    "# Print a few sample values from X and y\n",
    "print (f\"X sample values:\\n{X[:3]} \\n\")\n",
    "print (f\"y sample values:\\n{y[:3]}\")"
   ]
  },
  {
   "cell_type": "code",
   "execution_count": 7,
   "id": "2a03c768-4be4-460e-87ad-1b46091150d0",
   "metadata": {},
   "outputs": [],
   "source": [
    "# Manually splitting the data\n",
    "split = int(0.95 * len(X))\n",
    "\n",
    "X_train = X[: split]\n",
    "X_test = X[split:]\n",
    "\n",
    "y_train = y[: split]\n",
    "y_test = y[split:]"
   ]
  },
  {
   "cell_type": "code",
   "execution_count": 8,
   "id": "2bf07498-7cb9-46ec-976e-e8d790e0b3bd",
   "metadata": {},
   "outputs": [],
   "source": [
    "# Importing the MinMaxScaler from sklearn\n",
    "from sklearn.preprocessing import MinMaxScaler\n",
    "\n",
    "# Create a MinMaxScaler object\n",
    "scaler = MinMaxScaler()\n",
    "\n",
    "# Fit the MinMaxScaler object with the features data X\n",
    "scaler.fit(X_train)\n",
    "\n",
    "# Scale the features training and testing sets\n",
    "X_train = scaler.transform(X_train)\n",
    "X_test = scaler.transform(X_test)\n",
    "\n",
    "# Fit the MinMaxScaler object with the target data Y\n",
    "scaler.fit(y_train)\n",
    "\n",
    "# Scale the target training and testing sets\n",
    "y_train = scaler.transform(y_train)\n",
    "y_test = scaler.transform(y_test)"
   ]
  },
  {
   "cell_type": "code",
   "execution_count": 9,
   "id": "6f7bb671-cb0e-4f96-9813-2c12a3c6d623",
   "metadata": {},
   "outputs": [
    {
     "name": "stdout",
     "output_type": "stream",
     "text": [
      "X_train sample values:\n",
      "[[[8.75920702e-05]\n",
      "  [1.29519518e-04]\n",
      "  [6.84634925e-05]\n",
      "  [0.00000000e+00]\n",
      "  [0.00000000e+00]\n",
      "  [0.00000000e+00]\n",
      "  [0.00000000e+00]\n",
      "  [0.00000000e+00]\n",
      "  [0.00000000e+00]\n",
      "  [0.00000000e+00]]\n",
      "\n",
      " [[1.29677904e-04]\n",
      "  [6.86215796e-05]\n",
      "  [0.00000000e+00]\n",
      "  [7.57983963e-05]\n",
      "  [5.78708889e-05]\n",
      "  [2.19850604e-06]\n",
      "  [4.28895432e-05]\n",
      "  [2.01393010e-04]\n",
      "  [4.23733287e-05]\n",
      "  [1.78592130e-04]]\n",
      "\n",
      " [[6.87054948e-05]\n",
      "  [0.00000000e+00]\n",
      "  [7.63175295e-05]\n",
      "  [1.33787849e-04]\n",
      "  [6.00740953e-05]\n",
      "  [4.51426574e-05]\n",
      "  [2.45041281e-04]\n",
      "  [2.44704902e-04]\n",
      "  [2.21282939e-04]\n",
      "  [5.44606304e-04]]] \n",
      "\n",
      "X_test sample values:\n",
      "[[[1.00122287]\n",
      "  [1.00230907]\n",
      "  [1.00684887]\n",
      "  [1.00212456]\n",
      "  [1.00219586]\n",
      "  [1.00127543]\n",
      "  [1.00381029]\n",
      "  [1.02235127]\n",
      "  [1.00182006]\n",
      "  [1.00017062]]\n",
      "\n",
      " [[1.00353476]\n",
      "  [1.00917375]\n",
      "  [1.00898798]\n",
      "  [1.00432492]\n",
      "  [1.00347402]\n",
      "  [1.00509057]\n",
      "  [1.02624577]\n",
      "  [1.02421164]\n",
      "  [1.00199098]\n",
      "  [1.00194685]]\n",
      "\n",
      " [[1.01040784]\n",
      "  [1.01131781]\n",
      "  [1.01120341]\n",
      "  [1.0056057 ]\n",
      "  [1.00729731]\n",
      "  [1.02755461]\n",
      "  [1.02811314]\n",
      "  [1.02438635]\n",
      "  [1.00377037]\n",
      "  [1.00392347]]]\n"
     ]
    }
   ],
   "source": [
    "# Reshape the features data\n",
    "X_train = X_train.reshape((X_train.shape[0], X_train.shape[1], 1))\n",
    "X_test = X_test.reshape((X_test.shape[0], X_test.shape[1], 1))\n",
    "\n",
    "# Print some sample data after reshaping the datasets\n",
    "print (f\"X_train sample values:\\n{X_train[:3]} \\n\")\n",
    "print (f\"X_test sample values:\\n{X_test[:3]}\")"
   ]
  },
  {
   "cell_type": "code",
   "execution_count": 10,
   "id": "ac53ed52-2160-40c0-b721-c59f2bad4583",
   "metadata": {},
   "outputs": [],
   "source": [
    "# Importing required Keras modules\n",
    "from tensorflow.keras.models import Sequential\n",
    "from tensorflow.keras.layers import LSTM, Dense, Dropout"
   ]
  },
  {
   "cell_type": "code",
   "execution_count": 11,
   "id": "533f29bb-c8e9-429a-be61-7d2de25c8ec5",
   "metadata": {},
   "outputs": [
    {
     "name": "stderr",
     "output_type": "stream",
     "text": [
      "2021-12-11 11:41:42.020499: I tensorflow/core/platform/cpu_feature_guard.cc:151] This TensorFlow binary is optimized with oneAPI Deep Neural Network Library (oneDNN) to use the following CPU instructions in performance-critical operations:  AVX2 FMA\n",
      "To enable them in other operations, rebuild TensorFlow with the appropriate compiler flags.\n"
     ]
    }
   ],
   "source": [
    "# Define the LSTM RNN model.\n",
    "model = Sequential()\n",
    "\n",
    "# Initial model setup\n",
    "number_units = 30\n",
    "dropout_fraction = 0.5\n",
    "\n",
    "# Layer 1\n",
    "model.add(LSTM(\n",
    "    units=number_units,\n",
    "    return_sequences=True,\n",
    "    input_shape=(X_train.shape[1], 1))\n",
    "    )\n",
    "model.add(Dropout(dropout_fraction))\n",
    "\n",
    "# Layer 2\n",
    "model.add(LSTM(units=number_units, return_sequences=True))\n",
    "model.add(Dropout(dropout_fraction))\n",
    "\n",
    "# Layer 3\n",
    "model.add(LSTM(units=number_units))\n",
    "model.add(Dropout(dropout_fraction))\n",
    "\n",
    "# Output layer\n",
    "model.add(Dense(1))"
   ]
  },
  {
   "cell_type": "code",
   "execution_count": 12,
   "id": "07b772ea-cf7d-454c-8527-ed60c3087ef6",
   "metadata": {},
   "outputs": [],
   "source": [
    "# Compile the model\n",
    "model.compile(optimizer=\"adam\", loss=\"mean_squared_error\")"
   ]
  },
  {
   "cell_type": "code",
   "execution_count": 13,
   "id": "2a509cda-45dd-4912-b337-f7d37490edaa",
   "metadata": {},
   "outputs": [
    {
     "name": "stdout",
     "output_type": "stream",
     "text": [
      "Model: \"sequential\"\n",
      "_________________________________________________________________\n",
      " Layer (type)                Output Shape              Param #   \n",
      "=================================================================\n",
      " lstm (LSTM)                 (None, 10, 30)            3840      \n",
      "                                                                 \n",
      " dropout (Dropout)           (None, 10, 30)            0         \n",
      "                                                                 \n",
      " lstm_1 (LSTM)               (None, 10, 30)            7320      \n",
      "                                                                 \n",
      " dropout_1 (Dropout)         (None, 10, 30)            0         \n",
      "                                                                 \n",
      " lstm_2 (LSTM)               (None, 30)                7320      \n",
      "                                                                 \n",
      " dropout_2 (Dropout)         (None, 30)                0         \n",
      "                                                                 \n",
      " dense (Dense)               (None, 1)                 31        \n",
      "                                                                 \n",
      "=================================================================\n",
      "Total params: 18,511\n",
      "Trainable params: 18,511\n",
      "Non-trainable params: 0\n",
      "_________________________________________________________________\n"
     ]
    }
   ],
   "source": [
    "# Show the model summary\n",
    "model.summary()"
   ]
  },
  {
   "cell_type": "code",
   "execution_count": 14,
   "id": "e776b1d6-0116-46e9-b707-227f3d372290",
   "metadata": {},
   "outputs": [
    {
     "name": "stdout",
     "output_type": "stream",
     "text": [
      "Epoch 1/20\n",
      "52/52 [==============================] - 6s 14ms/step - loss: 0.0198\n",
      "Epoch 2/20\n",
      "52/52 [==============================] - 1s 13ms/step - loss: 0.0168\n",
      "Epoch 3/20\n",
      "52/52 [==============================] - 1s 14ms/step - loss: 0.0082\n",
      "Epoch 4/20\n",
      "52/52 [==============================] - 1s 13ms/step - loss: 0.0119\n",
      "Epoch 5/20\n",
      "52/52 [==============================] - 1s 12ms/step - loss: 0.0078\n",
      "Epoch 6/20\n",
      "52/52 [==============================] - 1s 12ms/step - loss: 0.0149\n",
      "Epoch 7/20\n",
      "52/52 [==============================] - 1s 12ms/step - loss: 0.0050\n",
      "Epoch 8/20\n",
      "52/52 [==============================] - 1s 11ms/step - loss: 0.0040\n",
      "Epoch 9/20\n",
      "52/52 [==============================] - 1s 12ms/step - loss: 0.0087\n",
      "Epoch 10/20\n",
      "52/52 [==============================] - 1s 12ms/step - loss: 0.0057\n",
      "Epoch 11/20\n",
      "52/52 [==============================] - 1s 11ms/step - loss: 0.0152\n",
      "Epoch 12/20\n",
      "52/52 [==============================] - 1s 11ms/step - loss: 0.0052\n",
      "Epoch 13/20\n",
      "52/52 [==============================] - 1s 11ms/step - loss: 0.0037\n",
      "Epoch 14/20\n",
      "52/52 [==============================] - 1s 11ms/step - loss: 0.0053\n",
      "Epoch 15/20\n",
      "52/52 [==============================] - 1s 11ms/step - loss: 0.0049\n",
      "Epoch 16/20\n",
      "52/52 [==============================] - 1s 11ms/step - loss: 0.0120\n",
      "Epoch 17/20\n",
      "52/52 [==============================] - 1s 11ms/step - loss: 0.0039\n",
      "Epoch 18/20\n",
      "52/52 [==============================] - 1s 11ms/step - loss: 0.0029\n",
      "Epoch 19/20\n",
      "52/52 [==============================] - 1s 11ms/step - loss: 0.0047\n",
      "Epoch 20/20\n",
      "52/52 [==============================] - 1s 12ms/step - loss: 0.0052\n",
      "CPU times: user 29.2 s, sys: 6.56 s, total: 35.8 s\n",
      "Wall time: 17.8 s\n"
     ]
    },
    {
     "data": {
      "text/plain": [
       "<keras.callbacks.History at 0x7fc92a8bdb50>"
      ]
     },
     "execution_count": 14,
     "metadata": {},
     "output_type": "execute_result"
    }
   ],
   "source": [
    "%%time\n",
    "# Train the model\n",
    "model.fit(X_train, y_train, epochs=20, shuffle=False, batch_size=30, verbose=1)"
   ]
  },
  {
   "cell_type": "code",
   "execution_count": null,
   "id": "86d7b46a",
   "metadata": {},
   "outputs": [],
   "source": []
  },
  {
   "cell_type": "code",
   "execution_count": 15,
   "id": "e9e0e8f3-cd57-4801-9c73-43d2b6f43ffb",
   "metadata": {},
   "outputs": [
    {
     "data": {
      "text/plain": [
       "0.00334694585762918"
      ]
     },
     "execution_count": 15,
     "metadata": {},
     "output_type": "execute_result"
    }
   ],
   "source": [
    "# Evaluate the model\n",
    "model.evaluate(X_test, y_test, verbose=0)"
   ]
  },
  {
   "cell_type": "code",
   "execution_count": 16,
   "id": "77b039b0-e3b8-4203-8b5c-32173a873ad4",
   "metadata": {},
   "outputs": [],
   "source": [
    "# Make predictions using the testing data X_test\n",
    "predicted = model.predict(X_test)"
   ]
  },
  {
   "cell_type": "code",
   "execution_count": 17,
   "id": "ab24507f-09ed-44a2-b58f-67b5c394a2c6",
   "metadata": {},
   "outputs": [],
   "source": [
    "# Recover the original prices instead of the scaled version\n",
    "predicted_prices = scaler.inverse_transform(predicted)\n",
    "real_prices = scaler.inverse_transform(y_test.reshape(-1, 1))"
   ]
  },
  {
   "cell_type": "code",
   "execution_count": 18,
   "id": "4da8f37f-5a69-4ec2-b984-3adf868d266d",
   "metadata": {},
   "outputs": [
    {
     "data": {
      "text/html": [
       "<div>\n",
       "<style scoped>\n",
       "    .dataframe tbody tr th:only-of-type {\n",
       "        vertical-align: middle;\n",
       "    }\n",
       "\n",
       "    .dataframe tbody tr th {\n",
       "        vertical-align: top;\n",
       "    }\n",
       "\n",
       "    .dataframe thead th {\n",
       "        text-align: right;\n",
       "    }\n",
       "</style>\n",
       "<table border=\"1\" class=\"dataframe\">\n",
       "  <thead>\n",
       "    <tr style=\"text-align: right;\">\n",
       "      <th></th>\n",
       "      <th>Actual</th>\n",
       "      <th>Predicted</th>\n",
       "    </tr>\n",
       "    <tr>\n",
       "      <th>Date</th>\n",
       "      <th></th>\n",
       "      <th></th>\n",
       "    </tr>\n",
       "  </thead>\n",
       "  <tbody>\n",
       "    <tr>\n",
       "      <th>2021-09-19</th>\n",
       "      <td>70429.32</td>\n",
       "      <td>69797.554688</td>\n",
       "    </tr>\n",
       "    <tr>\n",
       "      <th>2021-09-20</th>\n",
       "      <td>70568.11</td>\n",
       "      <td>70045.007812</td>\n",
       "    </tr>\n",
       "    <tr>\n",
       "      <th>2021-09-21</th>\n",
       "      <td>70699.26</td>\n",
       "      <td>70307.148438</td>\n",
       "    </tr>\n",
       "    <tr>\n",
       "      <th>2021-09-22</th>\n",
       "      <td>70832.27</td>\n",
       "      <td>70550.085938</td>\n",
       "    </tr>\n",
       "    <tr>\n",
       "      <th>2021-09-23</th>\n",
       "      <td>71146.69</td>\n",
       "      <td>70799.492188</td>\n",
       "    </tr>\n",
       "  </tbody>\n",
       "</table>\n",
       "</div>"
      ],
      "text/plain": [
       "              Actual     Predicted\n",
       "Date                              \n",
       "2021-09-19  70429.32  69797.554688\n",
       "2021-09-20  70568.11  70045.007812\n",
       "2021-09-21  70699.26  70307.148438\n",
       "2021-09-22  70832.27  70550.085938\n",
       "2021-09-23  71146.69  70799.492188"
      ]
     },
     "execution_count": 18,
     "metadata": {},
     "output_type": "execute_result"
    }
   ],
   "source": [
    "# Create a DataFrame of Real and Predicted values\n",
    "nft = pd.DataFrame({\n",
    "    \"Actual\": real_prices.ravel(),\n",
    "    \"Predicted\": predicted_prices.ravel()\n",
    "}, index = punks_df.index[-len(real_prices): ]) \n",
    "\n",
    "# Show the DataFrame's head\n",
    "nft.head()"
   ]
  },
  {
   "cell_type": "code",
   "execution_count": 19,
   "id": "cd3e75df-d6d3-4447-ae0a-c34383b49506",
   "metadata": {},
   "outputs": [
    {
     "data": {
      "text/plain": [
       "<AxesSubplot:title={'center':'Actual Vs. Predicted Crypto Punk Prices'}, xlabel='Date'>"
      ]
     },
     "execution_count": 19,
     "metadata": {},
     "output_type": "execute_result"
    },
    {
     "data": {
      "image/png": "[encoded data removed]",
      "text/plain": [
       "<Figure size 432x288 with 1 Axes>"
      ]
     },
     "metadata": {
      "needs_background": "light"
     },
     "output_type": "display_data"
    }
   ],
   "source": [
    "# Plot the real vs predicted prices as a line chart\n",
    "nft.plot(title=\"Actual Vs. Predicted Crypto Punk Prices\")\n"
   ]
  },
  {
   "cell_type": "code",
   "execution_count": null,
   "id": "ac538380",
   "metadata": {},
   "outputs": [],
   "source": []
  }
 ],
 "metadata": {
  "kernelspec": {
   "display_name": "Python 3 (ipykernel)",
   "language": "python",
   "name": "python3"
  },
  "language_info": {
   "codemirror_mode": {
    "name": "ipython",
    "version": 3
   },
   "file_extension": ".py",
   "mimetype": "text/x-python",
   "name": "python",
   "nbconvert_exporter": "python",
   "pygments_lexer": "ipython3",
   "version": "3.7.11"
  }
 },
 "nbformat": 4,
 "nbformat_minor": 5
}
